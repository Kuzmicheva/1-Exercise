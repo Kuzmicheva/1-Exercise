{
 "cells": [
  {
   "cell_type": "markdown",
   "metadata": {},
   "source": [
    "**Задание 1**. Даны 2 строки: *long_phrase* и *short_phrase*. \n",
    "Напишите код, который проверяет действительно ли длинная фраза *long_phrase* длиннее короткой *short_phrase*. И выводит *True* или *False* в зависимости от результата сравнения."
   ]
  },
  {
   "cell_type": "code",
   "execution_count": 2,
   "metadata": {},
   "outputs": [],
   "source": [
    "long_phrase = 'Насколько проще было бы писать программы, если бы не заказчики'\n",
    "short_phrase = '640Кб должно хватить для любых задач. Билл Гейтс (по легенде)'"
   ]
  },
  {
   "cell_type": "code",
   "execution_count": 3,
   "metadata": {},
   "outputs": [
    {
     "name": "stdout",
     "output_type": "stream",
     "text": [
      "True\n"
     ]
    }
   ],
   "source": [
    "print(len(long_phrase) > len(short_phrase))"
   ]
  },
  {
   "cell_type": "markdown",
   "metadata": {},
   "source": [
    "**Задание 2**. Дано значение объема файла в байтах. Напишите перевод этого значения в мегабайты в формате: \"*Объем файла равен 213.68Mb*\""
   ]
  },
  {
   "cell_type": "code",
   "execution_count": 28,
   "metadata": {},
   "outputs": [
    {
     "name": "stdout",
     "output_type": "stream",
     "text": [
      "Объем файла равен 213.68Mb\n"
     ]
    }
   ],
   "source": [
    "fs = 213680000\n",
    "x = fs / 1000000\n",
    "print(f'Объем файла равен {x}Mb')"
   ]
  },
  {
   "cell_type": "code",
   "execution_count": null,
   "metadata": {},
   "outputs": [],
   "source": [
    "print('ddd')"
   ]
  },
  {
   "cell_type": "markdown",
   "metadata": {},
   "source": [
    "**Задание 3**. Разработать приложение для определения знака зодиака по дате рождения. Пример:\n",
    "\n",
    "Введите месяц: март\n",
    "\n",
    "Введите число: 6\n",
    "\n",
    "Вывод:\n",
    "Рыбы"
   ]
  },
  {
   "cell_type": "markdown",
   "metadata": {},
   "source": [
    "Вариант 1"
   ]
  },
  {
   "cell_type": "code",
   "execution_count": 13,
   "metadata": {
    "scrolled": true
   },
   "outputs": [
    {
     "name": "stdout",
     "output_type": "stream",
     "text": [
      "Введите месяц январь\n",
      "Введите число 21\n",
      "Водолей\n"
     ]
    }
   ],
   "source": [
    "month = input('Введите месяц ')\n",
    "date = int(input('Введите число '))\n",
    "\n",
    "if month == 'январь' and date <= 20:    \n",
    "    print('Козерог')\n",
    "elif month == 'январь' and date >= 20:    \n",
    "    print('Водолей')\n",
    "elif month == 'февраль' and date <= 18:    \n",
    "    print('Водолей')\n",
    "elif month == 'февраль' and date >= 18:    \n",
    "    print('Рыбы')\n",
    "elif month == 'март' and date <= 20:    \n",
    "    print('Рыбы')\n",
    "elif month == 'март' and date >= 20:    \n",
    "    print('Овен')\n",
    "elif month == 'апрель' and date <= 21:    \n",
    "    print('Овен')\n",
    "elif month == 'апрель' and date >= 21:    \n",
    "    print('Телец')\n",
    "elif month == 'май' and date <= 20:    \n",
    "    print('Телец')\n",
    "elif month == 'май' and date >= 20:    \n",
    "    print('Близнецы')\n",
    "elif month == 'июнь' and date <= 21:    \n",
    "    print('Близнецы')\n",
    "elif month == 'июнь' and date >= 21:    \n",
    "    print('Рак')\n",
    "elif month == 'июль' and date <= 22:    \n",
    "    print('Рак')\n",
    "elif month == 'июль' and date >= 22:    \n",
    "    print('Лев')\n",
    "elif month == 'август' and date <= 22:    \n",
    "    print('Лев')\n",
    "elif month == 'август' and date >= 22:    \n",
    "    print('Дева')\n",
    "elif month == 'сентябрь' and date <= 22:    \n",
    "    print('Дева')\n",
    "elif month == 'сентябрь' and date >= 22:    \n",
    "    print('Весы')\n",
    "elif month == 'октябрь' and date <= 22:    \n",
    "    print('Весы')\n",
    "elif month == 'октябрь' and date >= 22:    \n",
    "    print('Скорпион')\n",
    "elif month == 'ноябрь' and date <= 22:    \n",
    "    print('Скорпион')\n",
    "elif month == 'ноябрь' and date >= 22:    \n",
    "    print('Стрелец')\n",
    "elif month == 'декабрь' and date <= 21:    \n",
    "    print('Стрелец')\n",
    "elif month == 'декабрь' and date >= 21:    \n",
    "    print('Козерог')"
   ]
  },
  {
   "cell_type": "markdown",
   "metadata": {},
   "source": [
    "Вариант 2"
   ]
  },
  {
   "cell_type": "code",
   "execution_count": 3,
   "metadata": {},
   "outputs": [
    {
     "name": "stdout",
     "output_type": "stream",
     "text": [
      "Введите месяц сентябрь\n",
      "Введите число 22\n",
      "Дева\n"
     ]
    }
   ],
   "source": [
    "month = input('Введите месяц ')\n",
    "day = int(input('Введите число '))\n",
    "\n",
    "if (month == 'март' and 21 <= day <= 31 or month == 'апрель' and 1 <= day <= 20):\n",
    "    print('Овен')\n",
    "elif (month == 'апрель' and 21 <= day <= 30 or month == 'май' and 1 <= day <= 21):\n",
    "    print('Телец')\n",
    "elif (month == 'май' and 21 <= day <= 30 or month == 'июнь' and 1 <= day <= 20):\n",
    "    print('Близнец')\n",
    "elif (month == 'июнь' and 21 <= day <= 30 or month == 'июль' and 1 <= day <= 22):\n",
    "    print('Рак')\n",
    "elif (month == 'июль' and 23 <= day <= 30 or month == 'август' and 1 <= day <= 22):\n",
    "    print('Лев')\n",
    "elif (month == 'август' and 23 <= day <= 30 or month == 'сентябрь' and 1 <= day <= 22):\n",
    "    print('Дева')\n",
    "elif (month == 'сентябрь' and 23 <= day <= 30 or month == 'октябрь' and 1 <= day <= 22):\n",
    "    print('Весы')\n",
    "elif (month == 'октябрь' and 23 <= day <= 30 or month == 'ноябрь' and 1 <= day <= 21):\n",
    "    print('Скорпион')\n",
    "elif (month == 'ноябрь' and 22 <= day <= 30 or month == 'декабрь' and 1 <= day <= 21):\n",
    "    print('Скорпион')"
   ]
  },
  {
   "cell_type": "markdown",
   "metadata": {},
   "source": [
    "**Задание 4**. Нужно разработать приложение для финансового планирования.\n",
    "Приложение учитывает сколько уходит на ипотеку, \"на жизнь\" и сколько нужно отложить на пенсию.\n",
    "Пользователь вводит:\n",
    "- заработанную плату в месяц.\n",
    "- сколько процентов от ЗП уходит на ипотеку.\n",
    "- сколько процентов от ЗП уходит \"на жизнь\".\n",
    "- сколько раз приходит премия в год.\n",
    "\n",
    "Остальная часть заработанной платы откладывается на пенсию.\n",
    "\n",
    "Также пользователю приходит премия в размере зарплаты, от которой половина уходит на отпуск, а вторая половина откладывается.\n",
    "\n",
    "Программа должна учитывать сколько премий было в год.\n",
    "\n",
    "Нужно вывести сколько денег тратит пользователь на ипотеку и сколько он накопит за год.\n",
    "\n",
    "Пример:\n",
    "\n",
    "Введите заработанную плату в месяц: 100000\n",
    "\n",
    "Введите сколько процентов уходит на ипотеку: 30\n",
    "\n",
    "Введите сколько процентов уходит на жизнь: 50\n",
    "\n",
    "Введите количество премий за год: 2\n",
    "\n",
    "Вывод:\n",
    "На ипотеку было потрачено: 360000 рублей\n",
    "Было накоплено: 340000 рублей"
   ]
  },
  {
   "cell_type": "markdown",
   "metadata": {},
   "source": []
  },
  {
   "cell_type": "code",
   "execution_count": 4,
   "metadata": {},
   "outputs": [
    {
     "name": "stdout",
     "output_type": "stream",
     "text": [
      "Заработная плата в месяц 100000\n",
      "Ипотека 30\n",
      "Расходы на жизнь50\n",
      "Количество премий в год 2\n"
     ]
    }
   ],
   "source": [
    "salary = int(input('Заработная плата в месяц '))\n",
    "mortgage = int(input('Ипотека '))\n",
    "living_expenses = int(input('Расходы на жизнь'))\n",
    "prize = int(input('Количество премий в год '))\n"
   ]
  },
  {
   "cell_type": "code",
   "execution_count": 5,
   "metadata": {},
   "outputs": [
    {
     "name": "stdout",
     "output_type": "stream",
     "text": [
      "На ипотеку было потрачено: 360000 руб.\n",
      "Было накоплено: 340000 руб.\n"
     ]
    }
   ],
   "source": [
    "salary_year = int(salary * 12)\n",
    "mortgage_year = int(salary_year * 30 / 100)\n",
    "living_expenses_year = int(salary_year * 50 / 100)\n",
    "prize_year = salary * 2\n",
    "retirement_year = int(salary_year - mortgage_year - living_expenses_year + prize_year / 2)\n",
    "print(f'На ипотеку было потрачено: {mortgage_year} руб.')\n",
    "print(f'Было накоплено: {retirement_year} руб.')\n",
    "\n",
    "\n",
    "    "
   ]
  },
  {
   "cell_type": "code",
   "execution_count": null,
   "metadata": {},
   "outputs": [],
   "source": [
    "\n"
   ]
  }
 ],
 "metadata": {
  "kernelspec": {
   "display_name": "Python 3",
   "language": "python",
   "name": "python3"
  },
  "language_info": {
   "codemirror_mode": {
    "name": "ipython",
    "version": 3
   },
   "file_extension": ".py",
   "mimetype": "text/x-python",
   "name": "python",
   "nbconvert_exporter": "python",
   "pygments_lexer": "ipython3",
   "version": "3.7.4"
  }
 },
 "nbformat": 4,
 "nbformat_minor": 2
}
